{
  "nbformat": 4,
  "nbformat_minor": 0,
  "metadata": {
    "colab": {
      "name": "Simple Linear Regression Project",
      "provenance": []
    },
    "kernelspec": {
      "name": "python3",
      "display_name": "Python 3"
    },
    "language_info": {
      "name": "python"
    }
  },
  "cells": [
    {
      "cell_type": "code",
      "metadata": {
        "id": "Tm2VmJQsWH7Q"
      },
      "source": [
        "# IMPORT ALL THE NECESSARY LIBRARIES\n",
        "\n",
        "import numpy as np\n",
        "import pandas as pd\n",
        "import matplotlib.pyplot as plt"
      ],
      "execution_count": 1,
      "outputs": []
    },
    {
      "cell_type": "code",
      "metadata": {
        "id": "IMXf2PGaWO3v"
      },
      "source": [
        "data = pd.read_csv('/content/PerCapitaIncome.csv')\n",
        "data = (data - data.mean())/data.std()\n",
        "\n",
        "X = data['year'].values\n",
        "Y = data['pci'].values"
      ],
      "execution_count": 2,
      "outputs": []
    },
    {
      "cell_type": "code",
      "metadata": {
        "id": "KCU9wtIuX7dz"
      },
      "source": [
        "# DETERMINING THE LENGTH & MEAN OF THE DATA\n",
        "\n",
        "length = len(X)\n",
        "x_mean = np.mean(X)\n",
        "y_mean = np.mean(Y)"
      ],
      "execution_count": 3,
      "outputs": []
    },
    {
      "cell_type": "code",
      "metadata": {
        "colab": {
          "base_uri": "https://localhost:8080/"
        },
        "id": "Yfw4n9dLYim_",
        "outputId": "36c908cc-c812-4d1f-8416-3f179c9e91b3"
      },
      "source": [
        "# COMPUTING THE COEFFICENTS -> SLOPE & INTERCEPT\n",
        "\n",
        "numerator = 0\n",
        "denominator = 0\n",
        "\n",
        "for i in range(length):\n",
        "    numerator += ((X[i] - x_mean) * (Y[i] - y_mean))\n",
        "    denominator += (X[i] - x_mean) ** 2\n",
        "    \n",
        "slope = numerator / denominator\n",
        "intercept = (y_mean - (slope * x_mean))\n",
        "\n",
        "print('SLOPE : ' + str(slope) + '\\nINTERCEPT : ' + str(intercept))"
      ],
      "execution_count": 4,
      "outputs": [
        {
          "output_type": "stream",
          "name": "stdout",
          "text": [
            "SLOPE : 0.943883953649511\n",
            "INTERCEPT : 1.1784372037838155e-16\n"
          ]
        }
      ]
    },
    {
      "cell_type": "code",
      "metadata": {
        "id": "tRzXUeVdYjy6"
      },
      "source": [
        "# DETERMINING THE X & Y LINE COEFFICIENTS\n",
        "\n",
        "x_max = np.max(X)\n",
        "x_min = np.min(X)\n",
        "\n",
        "# X & Y VALUES FOR PLOTTING A GRAPH\n",
        "x_plot = np.linspace(x_max, x_min, length)\n",
        "y_plot = (slope * x_plot) + intercept"
      ],
      "execution_count": 5,
      "outputs": []
    },
    {
      "cell_type": "code",
      "metadata": {
        "colab": {
          "base_uri": "https://localhost:8080/"
        },
        "id": "jpXvBbqfYk5-",
        "outputId": "bbe4d7e2-7401-43bd-b2ad-69282b8ad6a1"
      },
      "source": [
        "# EVALUATION BY ROOT MEAN SQUARE ERROR METHOD (RMSE)\n",
        "\n",
        "rmse = 0\n",
        "for i in range(length):\n",
        "    y_predicted = slope * X[i] + intercept\n",
        "    rmse += (Y[i] - y_predicted) ** 2\n",
        "    \n",
        "rmse = np.sqrt(rmse/length)\n",
        "print('RMSE : ' + str(rmse))"
      ],
      "execution_count": 6,
      "outputs": [
        {
          "output_type": "stream",
          "name": "stdout",
          "text": [
            "RMSE : 0.32674480164764014\n"
          ]
        }
      ]
    },
    {
      "cell_type": "code",
      "metadata": {
        "colab": {
          "base_uri": "https://localhost:8080/",
          "height": 279
        },
        "id": "LCn5XPm_YmHV",
        "outputId": "6cb5cbf3-a061-4bc6-8a70-14035ca3d0df"
      },
      "source": [
        "# PLOTTING THE REGRESSION LINE\n",
        "\n",
        "plt.plot(x_plot, y_plot, color = '#F4A950', label = 'Regression Line')\n",
        "plt.scatter(X, Y, color = '#161B21', label = 'Scatter Plot')\n",
        "plt.xlabel('YEARS')\n",
        "plt.ylabel('PCI')\n",
        "plt.legend()\n",
        "plt.show()"
      ],
      "execution_count": 7,
      "outputs": [
        {
          "output_type": "display_data",
          "data": {
            "image/png": "[encoded data removed]",
            "text/plain": [
              "<Figure size 432x288 with 1 Axes>"
            ]
          },
          "metadata": {
            "needs_background": "light"
          }
        }
      ]
    },
    {
      "cell_type": "code",
      "metadata": {
        "id": "LelqoODFYnl3"
      },
      "source": [
        ""
      ],
      "execution_count": 7,
      "outputs": []
    }
  ]
}